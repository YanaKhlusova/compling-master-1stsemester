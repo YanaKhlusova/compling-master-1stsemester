{
 "cells": [
  {
   "cell_type": "markdown",
   "metadata": {},
   "source": [
    "# Docs collecting"
   ]
  },
  {
   "cell_type": "markdown",
   "metadata": {},
   "source": [
    "Some code for coping with data."
   ]
  },
  {
   "cell_type": "markdown",
   "metadata": {},
   "source": [
    "## PDF to txt"
   ]
  },
  {
   "cell_type": "markdown",
   "metadata": {},
   "source": [
    "### pdf2image + pytesseract"
   ]
  },
  {
   "cell_type": "code",
   "execution_count": 5,
   "metadata": {},
   "outputs": [],
   "source": [
    "import pytesseract, pdf2image\n",
    "from PIL import Image"
   ]
  },
  {
   "cell_type": "code",
   "execution_count": 6,
   "metadata": {},
   "outputs": [],
   "source": [
    "def pdf_to_img(file):\n",
    "    return pdf2image.convert_from_path(file)\n",
    "\n",
    "\n",
    "def ocr_file(img):\n",
    "    text = pytesseract.image_to_string(img, lang='rus+eng+fra') # because there're some web-links in eng and citations in french\n",
    "    return text"
   ]
  },
  {
   "cell_type": "code",
   "execution_count": 7,
   "metadata": {},
   "outputs": [
    {
     "data": {
      "text/plain": [
       "273"
      ]
     },
     "execution_count": 7,
     "metadata": {},
     "output_type": "execute_result"
    }
   ],
   "source": [
    "imgs = pdf_to_img(\"C:/Users/yanak/Downloads/DH_monography.pdf\")\n",
    "len(imgs) # there're 273 pages in the book"
   ]
  },
  {
   "cell_type": "code",
   "execution_count": 8,
   "metadata": {},
   "outputs": [
    {
     "data": {
      "text/plain": [
       "[<PIL.PpmImagePlugin.PpmImageFile image mode=RGB size=2473x1686>,\n",
       " <PIL.PpmImagePlugin.PpmImageFile image mode=RGB size=1166x1654>,\n",
       " <PIL.PpmImagePlugin.PpmImageFile image mode=RGB size=1166x1654>,\n",
       " <PIL.PpmImagePlugin.PpmImageFile image mode=RGB size=1166x1654>,\n",
       " <PIL.PpmImagePlugin.PpmImageFile image mode=RGB size=1166x1654>]"
      ]
     },
     "execution_count": 8,
     "metadata": {},
     "output_type": "execute_result"
    }
   ],
   "source": [
    "imgs[:5] # just a list of imgs names"
   ]
  },
  {
   "cell_type": "code",
   "execution_count": 9,
   "metadata": {},
   "outputs": [],
   "source": [
    "docs = []\n",
    "for img in imgs:\n",
    "     docs.append(ocr_file(img))"
   ]
  },
  {
   "cell_type": "code",
   "execution_count": 10,
   "metadata": {},
   "outputs": [],
   "source": [
    "del docs[:4] # delete unnecessary stuff at the beginning\n",
    "del docs[-4:] #and in the end of the book\n",
    "# I left the info about authors in the end of the book because they are faces of Russian DH, so it may be necessary for some cases"
   ]
  },
  {
   "cell_type": "code",
   "execution_count": 11,
   "metadata": {},
   "outputs": [
    {
     "data": {
      "text/plain": [
       "'Предисловие\\n\\nИдея коллективного труда, который вы держите в руках, поя-\\nвилась во время подготовки онлайн-курса «Введение в цифровые\\nгуманитарные исследования» (https://openedu.ru/course/sfu/IDH/)\\nна базе производственно-продюсерского центра Сибирского фе-\\nдерального университета.\\n\\nЦифровые гуманитарные науки (или digital humanities) стали\\nважным направлением развития современных методических подхо-\\nдов к решению исторических, лингвистических, культурологических,\\nфилософских проблем.\\n\\nОднако все еще ощущается недостаток в литературе на русском\\nязыке, которая могла бы поспособствовать вхождению желающим\\nв такую сложную, но захватывающую проблематику.\\n\\nВ издательстве Сибирского федерального университета увидела\\nсвет хрестоматия «Цифровые гуманитарные науки», переводное\\nиздание, отразившее сложные перипетии становления и самоопре-\\nделения направления. Хрестоматия вошла в программы большин-\\nства смежных дисциплин и получила признание у преподавателей.\\nНо исследования не стоят на месте, в России активно развиваются\\nразные методологические направления цифровых гуманитарных\\nисследований, настал удачный момент соединить исследовательские\\nнаработки с опытом преподавания дисциплин цифрового цикла.\\n\\nПод одной обложкой вы найдете главы о данных и базах данных,\\nо культуромике и анализе текстов, о географических информаци-\\nонных системах и сетевом анализе, о трехмерном моделировании\\nи об инфраструктурах современной цифровой гуманитарной науки.\\n\\nНе все аспекты богатого исследовательского поля цифровой\\nгуманитаристики удалось охватить в этом первом коллективном\\nопыте, но есть надежда, что коллективная монография станет жи-\\nвой — обновляющейся и дополняющейся от издания к изданию.\\nИ наши труды будут способствовать развитию и процветанию\\nцифровой гуманитарной науки в России.\\n\\nМаксим Румянцев,\\nректор СФУ\\n'"
      ]
     },
     "execution_count": 11,
     "metadata": {},
     "output_type": "execute_result"
    }
   ],
   "source": [
    "docs[0] # revise the result"
   ]
  },
  {
   "cell_type": "code",
   "execution_count": 12,
   "metadata": {},
   "outputs": [
    {
     "data": {
      "text/plain": [
       "'Орехов Борис Валерьевич — кандидат филологических наук,\\nдоцент Школы лингвистики факультета гуманитарных наук и ве-\\nдущий научный сотрудник Международной лаборатории языковой\\nконвергенции Национального исследовательского университета\\n«Высшая школа экономики», старший научный сотрудник Лабора-\\nтории цифровых исследований литературы и фольклора Института\\nрусской литературы (Пушкинского дома) РАН.\\n\\nРумянцев Максим Валерьевич — кандидат философских наук,\\nректор Сибирского федерального университета, научный руково-\\nдитель лаборатории «Digital Humanities» Сибирского федерального\\nуниверситета.\\n\\nСметанин Андрей Владимирович — кандидат исторических\\n\\nнаук, доцент историко-политологического факультета Пермского\\nгосударственного национального исследовательского университета.\\n\\n268\\n'"
      ]
     },
     "execution_count": 12,
     "metadata": {},
     "output_type": "execute_result"
    }
   ],
   "source": [
    "docs[-1] # revise the result at the end"
   ]
  },
  {
   "cell_type": "code",
   "execution_count": 55,
   "metadata": {},
   "outputs": [],
   "source": [
    "with open(\"monography.txt\", \"w\", encoding=\"utf-8\") as f:\n",
    "    f.write(\" \".join(docs)) # write doc for later usage"
   ]
  },
  {
   "cell_type": "code",
   "execution_count": 1,
   "metadata": {},
   "outputs": [],
   "source": [
    "with open(\"monography.txt\", \"r\", encoding=\"utf-8\") as f:\n",
    "    txt = f.read()"
   ]
  },
  {
   "cell_type": "markdown",
   "metadata": {},
   "source": [
    "### PyPDF (Langchain)"
   ]
  },
  {
   "cell_type": "code",
   "execution_count": 13,
   "metadata": {},
   "outputs": [
    {
     "data": {
      "text/plain": [
       "Document(metadata={'source': 'C:/Users/yanak/Downloads/DH_monography.pdf', 'page': 0}, page_content='ЦИФРОВЫЕ ГУМАНИТАРНЫЕ\\nИССЛЕДОВАНИЯ\\nЦИФРОВЫЕ ГУМАНИТАРНЫЕ\\nИССЛЕДОВАНИЯ\\nВпервые на русском языке комплексно рассмотрено актуальное междисциплинарное  \\nнаправление – цифровые гуманитарные исследования, или digital humanities. Приведены примеры  \\n(само)определения направления, дан их обзор. «Цифровой поворот» в гуманитарных исследованиях \\nи масштабные проекты оцифровки историко-культурного наследия описаны в контексте \\nдатафикации и вызовов больших данных и машинного обучения. Особое внимание уделено \\nсовременным подходам к компьютерному анализу текстов и культуромике, направлению \\nисследований культуры и языка с помощью больших текстовых данных. Представлена \\nширокая палитра цифровых подходов, призванных находить решения насущных гуманитарных \\nисследовательских задач: от базы данных к сетевому анализу, от геоинформационных систем \\nк виртуальным реконструкциям и дополненной реальности. Происходящие процессы рассмотрены \\nв связи со становлением сложной и противоречивой информационной инфраструктуры цифровых \\nгуманитарных исследований.')"
      ]
     },
     "execution_count": 13,
     "metadata": {},
     "output_type": "execute_result"
    }
   ],
   "source": [
    "from langchain_community.document_loaders import PyPDFLoader\n",
    "\n",
    "loader = PyPDFLoader( \"C:/Users/yanak/Downloads/DH_monography.pdf\")\n",
    "pages = loader.load()\n",
    "\n",
    "pages[0] # I will have to delete unnecessary pages as above"
   ]
  },
  {
   "cell_type": "markdown",
   "metadata": {},
   "source": [
    "### PyMuPDF (Langchain)"
   ]
  },
  {
   "cell_type": "code",
   "execution_count": 14,
   "metadata": {},
   "outputs": [
    {
     "data": {
      "text/plain": [
       "Document(metadata={'source': 'C:/Users/yanak/Downloads/DH_monography.pdf', 'file_path': 'C:/Users/yanak/Downloads/DH_monography.pdf', 'page': 10, 'total_pages': 273, 'format': 'PDF 1.4', 'title': '', 'author': '', 'subject': '', 'keywords': '', 'creator': 'Adobe InDesign 17.4 (Windows)', 'producer': 'Adobe PDF Library 16.0.7', 'creationDate': \"D:20231009103040+07'00'\", 'modDate': \"D:20231009125215+07'00'\", 'trapped': ''}, page_content='10\\nИменно в\\xa0этом кроется нетипичность цифрового подхода к\\xa0гу\\xad\\nманитарному материалу. Количественные методы хорошо зареко\\xad\\nмендовали себя там, где анализ повторяющихся фактов помогает \\nоткрывать и\\xa0описывать закономерности, подтверждаемые новыми \\nнаблюдениями. То,\\xa0что является ценным для идиографических дис\\xad\\nциплин, не\\xa0повторяется и\\xa0не\\xa0может быть подтверждено.\\nЧтобы перейти от\\xa0традиционных идиографических описаний \\nк\\xa0применению количественных методов, необходимо перестроить \\nсам взгляд на\\xa0материал таким образом, чтобы он позволял видеть \\nобщее в\\xa0уникальном. Например, не\\xa0ставя под сомнение единствен\\xad\\nность в\\xa0своем роде каждого отдельного стихотворения, ученый \\nможет сосредоточиться на\\xa0некотором формальном приеме, истории \\nего применения в\\xa0рамках определенной художественной традиции. \\nВ\\xa0таком случае попавший в\\xa0фокус внимания исследователя прием \\nуже может иметь количественное измерение, которое может быть \\nописано как закономерность. Так действуют применяющие кван\\xad\\nтитативные методы стиховеды, подсчитывающие частотность ис\\xad\\nпользования поэтических размеров: «Обследуются не\\xa0типы, а\\xa0массы, \\nне\\xa0единичные явления, а\\xa0общие состояния. Рассматриваются многие \\nтысячи стихов данного размера, рассматриваются в\\xa0различных \\nразрезах, и\\xa0— \\u200b“большие числа” торжествуют над случайностью, \\nвыстраивая закон»\\u200a1.\\nТакой подход, естественно, вызывает закономерный скепсис \\nв\\xa0глазах традиционных филологов и\\xa0искусствоведов. Подсчет ча\\xad\\nстотности вступает для них в\\xa0противоречие с\\xa0привычными фор\\xad\\nмами работы с\\xa0материалом. Поэтому неверно было\\xa0бы разделять \\nисторию гуманитарных наук на\\xa0доцифровой и\\xa0цифровой периоды: \\nодновременно с\\xa0активным использованием компьютерных методик \\nсуществуют и\\xa0более привычные подходы.\\nТем не\\xa0менее вряд\\xa0ли можно найти гуманитарную специаль\\xad\\nность, которую\\xa0бы так или иначе не\\xa0затронул «цифровой поворот». \\nЛюбое гуманитарное исследование сегодня основано на\\xa0спонтанной \\nили систематической, выборочной или сплошной оцифровке тек\\xad\\nстов, документов, изображений или каких-\\xadто объектов историко-\\xad\\nкультурного наследия, что делает эти объекты более доступными \\nдля исследователя, то\\xa0есть снижает порог входа для ученого. Если \\nв\\xa0доцифровую эру на\\xa0пути у\\xa0филолога, историка, искусствоведа могла \\n1\\t Шенгели\\xa0Г.\\u2009А.\\xa0Об\\xa0исследовании узбекского стиха // Научная мысль. 1930. \\n№\\xa01. С.\\xa029.\\n')"
      ]
     },
     "execution_count": 14,
     "metadata": {},
     "output_type": "execute_result"
    }
   ],
   "source": [
    "from langchain_community.document_loaders import PyMuPDFLoader\n",
    "\n",
    "loader = PyMuPDFLoader(\"C:/Users/yanak/Downloads/DH_monography.pdf\")\n",
    "docs = loader.load()\n",
    "\n",
    "docs[10]"
   ]
  }
 ],
 "metadata": {
  "kernelspec": {
   "display_name": "Python 3",
   "language": "python",
   "name": "python3"
  },
  "language_info": {
   "codemirror_mode": {
    "name": "ipython",
    "version": 3
   },
   "file_extension": ".py",
   "mimetype": "text/x-python",
   "name": "python",
   "nbconvert_exporter": "python",
   "pygments_lexer": "ipython3",
   "version": "3.11.4"
  }
 },
 "nbformat": 4,
 "nbformat_minor": 2
}
