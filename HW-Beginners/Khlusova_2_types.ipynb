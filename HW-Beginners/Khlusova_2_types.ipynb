{
  "nbformat": 4,
  "nbformat_minor": 0,
  "metadata": {
    "colab": {
      "provenance": [],
      "include_colab_link": true
    },
    "kernelspec": {
      "name": "python3",
      "display_name": "Python 3"
    },
    "language_info": {
      "name": "python"
    }
  },
  "cells": [
    {
      "cell_type": "markdown",
      "metadata": {
        "id": "view-in-github",
        "colab_type": "text"
      },
      "source": [
        "<a href=\"https://colab.research.google.com/github/YanaKhlusova/compling-master-1stsemester/blob/main/HW-Beginners/Khlusova_2_types.ipynb\" target=\"_parent\"><img src=\"https://colab.research.google.com/assets/colab-badge.svg\" alt=\"Open In Colab\"/></a>"
      ]
    },
    {
      "cell_type": "markdown",
      "source": [
        "(c) В.И. Фирсанова | 2024"
      ],
      "metadata": {
        "id": "LKJXB1rGMi22"
      }
    },
    {
      "cell_type": "markdown",
      "source": [
        "# Типы данных в Python\n",
        "\n",
        "1. **Числовые типы**:\n",
        "   - `int` integer, целое число `7`\n",
        "   - `float` число с плавающей точкой (десятичная дробь) `7.1`\n",
        "\n",
        "2. **Булевы перменные**:\n",
        "   - `Bool` Boolean, принимает значения `True` или `False`\n",
        "\n",
        "3. **Наборы, последовательности**:\n",
        "   - `str` string, строка `\"hello\"`\n",
        "   - `list`, список `[1, 7.1, \"hello\"]`, изменяемая последовательность\n",
        "    - *вложенный список* состоит из множества списков `[[0, 1, 2], [3, 4]]`\n",
        "   - `tuple`, кортеж `(1, 7.1, \"hello), неизменяемая последовательность\n",
        "    - в кортежах нельзя удалять, добавлять данные; они занимают меньше памяти\n",
        "   - `dict`, dictionary, словарь `{\"number\": 1, \"word\": \"hello\"}`, пары ключей и значений (key-query)\n",
        "    - в этом примере ключами будут `\"number\"` и `\"word\"`, а значениями - `1` и `\"hello\"`\n",
        "  - `set`, множество, неупорядоченный набор уникальных элементов `{1, 2, 3}`\n",
        "  - `frozenset`, неизменяемое множество (аналог кортежа по отношению к спискам)\n",
        "\n",
        "4. **None**:\n",
        "   - `None` можно использовать для создания пустого элемента, как плейсхолдер в функции, для проверки факта наличия объекта в переменной и т.д."
      ],
      "metadata": {
        "id": "fQaRb4FdiZXL"
      }
    },
    {
      "cell_type": "markdown",
      "source": [
        "Задачи\n",
        "\n",
        "1. Угадай число"
      ],
      "metadata": {
        "id": "M_S_1NbvB2ak"
      }
    },
    {
      "cell_type": "code",
      "source": [
        "import random # библиотека для генерации случайных чисел\n",
        "\n",
        "# генерируем случайное целое число (random integer) от 0 до 10\n",
        "# функция randint принимает два аргумента: диапазон генерации\n",
        "magic_number = random.randint(0, 10)\n",
        "\n",
        "# запросите у пользователя ввод числа\n",
        "user_number = int(input())\n",
        "\n",
        "if user_number == magic_number: # проверка на совпадение значений\n",
        "  print('Поздравляю, вы угадали!')\n",
        "else:\n",
        "  print('А вот и нет! Это число', magic_number)"
      ],
      "metadata": {
        "id": "l6Dwn2cDj_N9",
        "colab": {
          "base_uri": "https://localhost:8080/"
        },
        "outputId": "af6d214c-2a97-4823-af3b-4f358be7410f"
      },
      "execution_count": 4,
      "outputs": [
        {
          "output_type": "stream",
          "name": "stdout",
          "text": [
            "4\n",
            "А вот и нет! Это число 8\n"
          ]
        }
      ]
    },
    {
      "cell_type": "markdown",
      "source": [
        "Обратите внимание на строку `print('А вот и нет! Это число', magic_number)`\n",
        "\n",
        "`print` может принимать несколько аргументов через запятую и выводить на экран их все!\n",
        "\n",
        "Используйте это в следующем задании.\n",
        "\n",
        "2. Приветствие"
      ],
      "metadata": {
        "id": "HU_ZGIkeAZfI"
      }
    },
    {
      "cell_type": "code",
      "source": [
        "# запросите у пользователя его имя\n",
        "# вспомните, чем input(int()) отличается от input()\n",
        "name = input('Type your name: ')\n",
        "\n",
        "# выведите на экран любое приветствие для пользователя\n",
        "print(f'Hello, {name}!')"
      ],
      "metadata": {
        "colab": {
          "base_uri": "https://localhost:8080/"
        },
        "outputId": "82dad320-9b9c-4a22-b6b0-5f70e954a1a8",
        "id": "y-PGiG7G_7lC"
      },
      "execution_count": 10,
      "outputs": [
        {
          "output_type": "stream",
          "name": "stdout",
          "text": [
            "Type your name: Yana\n",
            "Hello, Yana!\n"
          ]
        }
      ]
    },
    {
      "cell_type": "markdown",
      "source": [
        "3. Конвертер температур"
      ],
      "metadata": {
        "id": "A_FhYEiWCAVW"
      }
    },
    {
      "cell_type": "code",
      "source": [
        "# запросите у пользователя температуру в градусах Цельсия:\n",
        "# это должно быть дробное числом (float)\n",
        "celcius = float(input('Type temperature in degrees Celcius: '))\n",
        "\n",
        "# конвертируйте температуру из градусов Цельсия в градусы Фаренгейта:\n",
        "# вспомните или найдите формулу и используйте арифметические операции python для расчетов\n",
        "fahrenheit = celcius * 1.8 + 32\n",
        "\n",
        "# выведите результат на экран:\n",
        "# используйте любые текстовые формулировки, чтобы показать число,\n",
        "# которое вы получили от пользователя, и результат расчетов\n",
        "print(f'Temperataure in degrees Celcius: {celcius}\\nTemperataure in degrees Fahrenheit: {fahrenheit}')"
      ],
      "metadata": {
        "id": "0eRzO5hMkdIc",
        "colab": {
          "base_uri": "https://localhost:8080/"
        },
        "outputId": "ce3e9dba-f79f-4129-f3a0-89794640ee73"
      },
      "execution_count": 2,
      "outputs": [
        {
          "output_type": "stream",
          "name": "stdout",
          "text": [
            "Type temperature in degrees Celcius: 13\n",
            "Temperataure in degrees Celcius: 13.0\n",
            "Temperataure in degrees Fahrenheit: 55.400000000000006\n"
          ]
        }
      ]
    },
    {
      "cell_type": "markdown",
      "source": [
        "Как вывести на экран несколько строк?\n",
        "\n",
        "- Можно вызвать `print` несколько раз\n",
        "\n",
        "```\n",
        "print('Вот первая строка')\n",
        "print('А это вторая строка')\n",
        "```\n",
        "- Можно использовать `\\n` - символ новой строки\n",
        "\n",
        "```\n",
        "print('Вот первая строка \\n А это вторая строка')\n",
        "```\n",
        "\n",
        "4. Округление и вывод с помощью новой строки"
      ],
      "metadata": {
        "id": "7ZiP0RJeEKXX"
      }
    },
    {
      "cell_type": "code",
      "source": [
        "# результат расчетов в задаче 3 сохранился в переменных\n",
        "# воспользуемся этим преимуществом!\n",
        "\n",
        "# округлите оба значения температур в градусах Цельсия и в градусах Фаргентейта\n",
        "# вы можете преобразовать результат к виду целого числа с помощью int(n); n - число для преобразования\n",
        "# либо воспользоваться функцией round(n, k), указав в аргументах функции количество знаков после запятой k\n",
        "# попробуйте оба варианта!\n",
        "celcius = int(celcius)\n",
        "fahrenheit = round(fahrenheit, 0)\n",
        "\n",
        "# теперь выведите на экран оба числа\n",
        "# сделайте это в одну строчку кода:\n",
        "# используйте символ новой строки, подумайте, куда его добавить\n",
        "\n",
        "# я уже использовала это ахах\n",
        "print(f'Temperataure in degrees Celcius: {celcius}\\nTemperataure in degrees Fahrenheit: {fahrenheit}')"
      ],
      "metadata": {
        "colab": {
          "base_uri": "https://localhost:8080/"
        },
        "id": "bUwEDGEFE2g2",
        "outputId": "d5361667-f549-4207-ce92-0329a3cf311a"
      },
      "execution_count": 3,
      "outputs": [
        {
          "output_type": "stream",
          "name": "stdout",
          "text": [
            "Temperataure in degrees Celcius: 13\n",
            "Temperataure in degrees Fahrenheit: 55.0\n"
          ]
        }
      ]
    },
    {
      "cell_type": "markdown",
      "source": [
        "В задании 4 нам может помочь свойство конкатенации строк.\n",
        "\n",
        "`print('Hello' + ' ' +'World')`\n",
        "\n",
        "Но сложение строки с числом невозможно в питоне. Что делать?\n",
        "\n",
        "5. Конвертирование типов данных"
      ],
      "metadata": {
        "id": "nqNeKzKIGi3J"
      }
    },
    {
      "cell_type": "code",
      "source": [
        "# преобразуйте округленные значения температур к виду строк, применив str(n),\n",
        "# где n - то, что вы хотите преобразовать к виду строки\n",
        "celcius = str(celcius)\n",
        "fahrenheit = str(fahrenheit)\n",
        "\n",
        "# выведите на экран результат:\n",
        "# используйте конкатенацию строк вместо запятой в функции print\n",
        "print('Temperataure in degrees Celcius: ' + celcius + '\\nTemperataure in degrees Fahrenheit: ' + fahrenheit)"
      ],
      "metadata": {
        "colab": {
          "base_uri": "https://localhost:8080/"
        },
        "id": "us_bdGWcGxnN",
        "outputId": "2b9055fa-5a07-40aa-f94b-61ec411a86dc"
      },
      "execution_count": 4,
      "outputs": [
        {
          "output_type": "stream",
          "name": "stdout",
          "text": [
            "Temperataure in degrees Celcius: 13\n",
            "Temperataure in degrees Fahrenheit: 55.0\n"
          ]
        }
      ]
    },
    {
      "cell_type": "markdown",
      "source": [
        "Чтобы преобразовать один тип данных в другой, мы вызываем функцию, обозначающую этот тип.\n",
        "\n",
        "Закрепим новый материал.\n",
        "\n",
        "6. Калькулятор"
      ],
      "metadata": {
        "id": "spQ5uN3astAm"
      }
    },
    {
      "cell_type": "code",
      "source": [
        "# запросите у пользователя 2 целых числа\n",
        "# выполните операции сложения, вычитания, умножения и возведения каждого из чисел во вторую степень\n",
        "# выведите результат на экран\n",
        "\n",
        "first = int(input('Type 1st number: '))\n",
        "second = int(input('Type 2nd number: '))\n",
        "num_sum = first + second\n",
        "num_diff = first - second\n",
        "num_prod = first * second\n",
        "first_squared = first ** 2\n",
        "second_squared = second ** 2\n",
        "print(f\"Numbers' sum: {num_sum}\\nNumbers' difference: {num_diff}\\nNumbers' product: {num_prod}\\nFirst number squared: {first_squared}\\nSecond number squared: {second_squared}\")"
      ],
      "metadata": {
        "colab": {
          "base_uri": "https://localhost:8080/"
        },
        "id": "n7-Jm439sar_",
        "outputId": "be66c037-8931-486b-ff53-b2a671f9b1e7"
      },
      "execution_count": 16,
      "outputs": [
        {
          "output_type": "stream",
          "name": "stdout",
          "text": [
            "Type 1st number: 10\n",
            "Type 2nd number: 12\n",
            "Numbers' sum: 22\n",
            "Numbers' difference: -2\n",
            "Numbers' product: 120\n",
            "First number squared: 100\n",
            "Second number squared: 144\n"
          ]
        }
      ]
    },
    {
      "cell_type": "markdown",
      "source": [
        "7. Анкета"
      ],
      "metadata": {
        "id": "x73Q0mXOuY_A"
      }
    },
    {
      "cell_type": "code",
      "source": [
        "# вспомним множественное присваивание в python\n",
        "# a, b, c = 0, 1, 2\n",
        "# используйте множественное присваивание,\n",
        "# чтобы одной строчкой кода запросить у пользователя имя, возраст и профессию\n",
        "# выведите на экран полученную информацию\n",
        "\n",
        "name, age, occupation = input('Type your name: '), input('Type your age: '), input('Type your occupation: ')\n",
        "print(f'Name: {name}\\nAge: {age}\\nOccupation: {occupation}')"
      ],
      "metadata": {
        "colab": {
          "base_uri": "https://localhost:8080/"
        },
        "id": "-I2KyU5CuF_q",
        "outputId": "37531cc3-4aa9-49a6-e8e1-53079eb9821e"
      },
      "execution_count": 13,
      "outputs": [
        {
          "output_type": "stream",
          "name": "stdout",
          "text": [
            "Type your name: Vanya\n",
            "Type your age: 46\n",
            "Type your occupation: teacher\n",
            "Name: Vanya\n",
            "Age: 46\n",
            "Occupation: teacher\n"
          ]
        }
      ]
    },
    {
      "cell_type": "markdown",
      "source": [
        "8. Поменять местами переменные"
      ],
      "metadata": {
        "id": "yTqWtZfltMhg"
      }
    },
    {
      "cell_type": "code",
      "source": [
        "# множественное присваивание иногда очень полезно\n",
        "# запросите у пользователя две любые переменные\n",
        "# это может быть строка или число, на ваш выбор\n",
        "\n",
        "# поменяйте их местами одной строчкой кода:\n",
        "# запишите в первую переменную информацию из второй,\n",
        "# а во вторую переменную - информацию из первой, используя множественное присваивание\n",
        "\n",
        "# выведите на экран промежуточные и итоговые результаты\n",
        "\n",
        "var1, var2 = int(input('Type the 1st variable: ')), int(input('Type the 2nd variable: '))\n",
        "print(f\"You typed {var1} as the 1st variable\\nYou typed {var2} as the 2nd variable\\nLet's mix them!\")\n",
        "var1, var2 = var2, var1\n",
        "print(f\"Now the 1st variable is {var1}\\nAnd the 2nd one is {var2}\")"
      ],
      "metadata": {
        "colab": {
          "base_uri": "https://localhost:8080/"
        },
        "id": "NTHA_bPbv8uX",
        "outputId": "26a7f431-b6f8-4b25-c988-6c7f4e5d761f"
      },
      "execution_count": 14,
      "outputs": [
        {
          "output_type": "stream",
          "name": "stdout",
          "text": [
            "Type the 1st variable: 5\n",
            "Type the 2nd variable: 10\n",
            "You typed 5 as the 1st variable\n",
            "You typed 10 as the 2nd variable\n",
            "Let's mix them!\n",
            "Now the 1st variable is 10\n",
            "And the 2nd one is 5\n"
          ]
        }
      ]
    },
    {
      "cell_type": "markdown",
      "source": [
        "9. Дописать функцию"
      ],
      "metadata": {
        "id": "75A8BHaKv6Wl"
      }
    },
    {
      "cell_type": "code",
      "source": [
        "# чаще мы используем множественное присваивание в фунциональном программировании\n",
        "# например, эта функция считает сумму и произведение двух чисел\n",
        "# функция принимает на вход (почти как input!) 2 числа\n",
        "# эти числа запишутся в переменные a и b\n",
        "def sum_and_product(a, b):\n",
        "    # напишите здесь код для расчета суммы чисел a и b\n",
        "    total_sum = a + b\n",
        "    # а сюда допишите код для подсчета их произведения\n",
        "    product = a * b\n",
        "    # функция возвращает результат подсчета - два новых числа\n",
        "    return total_sum, product\n",
        "\n",
        "# настало время множественного присваивания\n",
        "# мы вызывает функцию sum_and_product и передаем ей в качестве аргументов два числа - 5 и 3\n",
        "# мы помним, что функция возвращает 2 новых числа,\n",
        "# поэтому результат работы одной функции мы записываем в две переменные: result_sum и result_product\n",
        "result_sum, result_product = sum_and_product(5, 3)\n",
        "\n",
        "# выведите на экран result_sum и result_product\n",
        "print(f'Sum: {result_sum}\\nProduct: {result_product}')"
      ],
      "metadata": {
        "colab": {
          "base_uri": "https://localhost:8080/"
        },
        "id": "rBnK8PXDxVRr",
        "outputId": "46df8b7e-4d21-4010-b85f-bf88844d681c"
      },
      "execution_count": 15,
      "outputs": [
        {
          "output_type": "stream",
          "name": "stdout",
          "text": [
            "Sum: 8\n",
            "Product: 15\n"
          ]
        }
      ]
    },
    {
      "cell_type": "markdown",
      "source": [
        "10. Строка и число"
      ],
      "metadata": {
        "id": "ZmO8j5ySxUO9"
      }
    },
    {
      "cell_type": "code",
      "source": [
        "# запросите у пользователя 2 числа, используйте str(input())\n",
        "# сложите два числа, не меняя тип данных, и выведите на экран результат\n",
        "# преобразуйте числа к виду нужного типа и снова сложите их, выведите результат\n",
        "\n",
        "# это задание нам уже знакомо:\n",
        "# попробуйте решить его питонично, используя как можно меньше строк кода\n",
        "# какие операции можно объединить?\n",
        "# в каких случаях нам не нужно создавать дополнительные переменные?\n",
        "\n",
        "num1, num2 = str(input('Type the 1st number: ')), str(input('Type the 2nd number: '))\n",
        "sum1, sum2 = num1 + num2, int(num1) + int(num2)\n",
        "print(f'Sum 1: {sum1}\\nSum 2: {sum2}')"
      ],
      "metadata": {
        "colab": {
          "base_uri": "https://localhost:8080/"
        },
        "id": "XOt6ZUeDzFAJ",
        "outputId": "95a6c096-b5da-4476-c413-5e3e23dcb847"
      },
      "execution_count": 20,
      "outputs": [
        {
          "output_type": "stream",
          "name": "stdout",
          "text": [
            "Type the 1st number: 20\n",
            "Type the 2nd number: 30\n",
            "Sum 1: 2030\n",
            "Sum 2: 50\n"
          ]
        }
      ]
    }
  ]
}