{
  "nbformat": 4,
  "nbformat_minor": 0,
  "metadata": {
    "colab": {
      "provenance": [],
      "collapsed_sections": [
        "xjBo_ebS9BpG",
        "f52IBxo_3QMO",
        "JUJsTkMH4Gbi",
        "ty-_ARJv4hjz",
        "ibVDS0oG6Kab",
        "Byz1IibM7s8y",
        "pmEBQyIh9Ist",
        "NdG5Y_Cg9Isv",
        "Tf1rQpab9Isx"
      ],
      "include_colab_link": true
    },
    "kernelspec": {
      "name": "python3",
      "display_name": "Python 3"
    },
    "language_info": {
      "name": "python"
    }
  },
  "cells": [
    {
      "cell_type": "markdown",
      "metadata": {
        "id": "view-in-github",
        "colab_type": "text"
      },
      "source": [
        "<a href=\"https://colab.research.google.com/github/YanaKhlusova/compling-master-1stsemester/blob/main/HW-Beginners/Khlusova_4_if.ipynb\" target=\"_parent\"><img src=\"https://colab.research.google.com/assets/colab-badge.svg\" alt=\"Open In Colab\"/></a>"
      ]
    },
    {
      "cell_type": "markdown",
      "source": [
        "# Блок 1: задачи на условия"
      ],
      "metadata": {
        "id": "xjBo_ebS9BpG"
      }
    },
    {
      "cell_type": "markdown",
      "source": [
        "## Задание 1\n",
        "\n",
        "### Напишите программу для проверки пароля пользователя\n",
        "\n",
        "**Образец работы программы:**\n",
        "\n",
        "```\n",
        "Введите пароль: 123\n",
        "Пароль неверный\n",
        "Введите пароль: 321\n",
        "Пароль верный\n",
        "```\n",
        "\n",
        "**Алгоритм:**\n",
        "\n",
        "1. Создайте переменную, в которой хранится верный пароль\n",
        "2. Запросите у пользователя пароль\n",
        "3. Если пароль верный, выведите \"Пароль верный\"\n",
        "4. Иначе, выведите \"Пароль неверный\""
      ],
      "metadata": {
        "id": "f52IBxo_3QMO"
      }
    },
    {
      "cell_type": "code",
      "execution_count": 9,
      "metadata": {
        "id": "XDk2pBii3Nvo",
        "colab": {
          "base_uri": "https://localhost:8080/"
        },
        "outputId": "ff846b6c-fb40-4108-8609-609abc298c2a"
      },
      "outputs": [
        {
          "output_type": "stream",
          "name": "stdout",
          "text": [
            "Enter password: 2024\n",
            "The password is true\n"
          ]
        }
      ],
      "source": [
        "true_password = '2024' # I think all passwords are strings now, not integers\n",
        "users_password = input('Enter password: ')\n",
        "\n",
        "if users_password == true_password:\n",
        "  print('The password is true')\n",
        "else:\n",
        "  print('The password is false')"
      ]
    },
    {
      "cell_type": "markdown",
      "source": [
        "## Задание 2\n",
        "\n",
        "### Напишите программу для проверки возраста пользователя\n",
        "\n",
        "**Образец работы программы:**\n",
        "\n",
        "```\n",
        "Введите возраст: 12\n",
        "Доступ запрещен\n",
        "Введите пароль: 21\n",
        "Доступ разрешен\n",
        "```\n",
        "Если возраст больше или равен 18, программа выводит \"Доступ разрешен\""
      ],
      "metadata": {
        "id": "JUJsTkMH4Gbi"
      }
    },
    {
      "cell_type": "code",
      "source": [
        "age = int(input('Enter your age: ')) # presumably we talk about full years, not months, days, hours...\n",
        "\n",
        "if age >= 18:\n",
        "  print('Acces allowed')\n",
        "else:\n",
        "  print('Acces denied')"
      ],
      "metadata": {
        "id": "aUr56W8b3-gg",
        "colab": {
          "base_uri": "https://localhost:8080/"
        },
        "outputId": "c666f906-a9a4-4bf2-9adc-636fbe7f9114"
      },
      "execution_count": 14,
      "outputs": [
        {
          "output_type": "stream",
          "name": "stdout",
          "text": [
            "Enter your age: 17\n",
            "Acces denied\n"
          ]
        }
      ]
    },
    {
      "cell_type": "markdown",
      "source": [
        "## Задание 3\n",
        "\n",
        "### Напишите программу для приветствия пользователя\n",
        "\n",
        "**Образец работы программы:**\n",
        "\n",
        "```\n",
        "Введите время: 12:30\n",
        "Добрый день!\n",
        "Введите время: 10:30\n",
        "Доброе утро!\n",
        "Введите время: 21:30\n",
        "Добрый вечер!\n",
        "Введите время: 01:30\n",
        "Доброй ночи!\n",
        "```\n",
        "**Алгоритм:**\n",
        "\n",
        "1. Программа принимает на вход строку\n",
        "2. Делим строку по знаку `:`, создаем новую переменную с результатом разделения\n",
        "3. Извлекаем первый элемент из созданной переменной\n",
        "3. Использует логические выражения, чтобы вывести одно из четырех приветствий"
      ],
      "metadata": {
        "id": "ty-_ARJv4hjz"
      }
    },
    {
      "cell_type": "code",
      "source": [
        "user_time = input('Enter time: ')\n",
        "time = user_time.split(':') # но ведь можно было просто \"приделать\" сплит(\":\") к инпуту\n",
        "\n",
        "if 11 >= int(time[0]) >= 4: # because we can't compare str and int\n",
        "  print('Good morning!')\n",
        "elif 16 >= int(time[0]) >= 12:\n",
        "  print('Good afternoon!')\n",
        "elif 23 >= int(time[0]) >= 17:\n",
        "  print('Good evening!')\n",
        "else:\n",
        "  print('Good night!')"
      ],
      "metadata": {
        "colab": {
          "base_uri": "https://localhost:8080/"
        },
        "id": "jCzAEjcm7Uyz",
        "outputId": "1cb02742-6dba-4652-c0aa-e846210923cd"
      },
      "execution_count": 97,
      "outputs": [
        {
          "output_type": "stream",
          "name": "stdout",
          "text": [
            "Enter time: 01:56\n",
            "Good night!\n"
          ]
        }
      ]
    },
    {
      "cell_type": "markdown",
      "source": [
        "## Задание 4\n",
        "\n",
        "### Целочисленный калькулятор\n",
        "\n",
        "**Образец работы программы:**\n",
        "\n",
        "```\n",
        "Введите выражение: 2 + 2\n",
        "4\n",
        "Введите выражение: 2 - 2\n",
        "0\n",
        "Введите выражение: 2 : 2\n",
        "1\n",
        "Введите время: 2 * 2\n",
        "4\n",
        "```\n",
        "**Алгоритм:**\n",
        "\n",
        "1. Программа принимает на вход строку\n",
        "2. Делим строку, создаем список из 3-х элементов\n",
        "3. Проверяем, что записано во втором элементе (помним, что нумерация начинается с 0!) с помощью условий\n",
        "4. Производим одно из четырех возможных действий с первым и последним элементом созданного списка"
      ],
      "metadata": {
        "id": "ibVDS0oG6Kab"
      }
    },
    {
      "cell_type": "code",
      "source": [
        "user_num = input('Enter expression: ')\n",
        "user_num = user_num.split()\n",
        "\n",
        "if user_num[1] == '+':\n",
        "  print(int(user_num[0]) + int(user_num[2]))\n",
        "elif user_num[1] == '-':\n",
        "  print(int(user_num[0]) - int(user_num[2]))\n",
        "elif user_num[1] == ':':\n",
        "  print(int(user_num[0]) / int(user_num[2]))\n",
        "elif user_num[1] == '*':\n",
        "  print(int(user_num[0]) * int(user_num[2]))"
      ],
      "metadata": {
        "id": "TQroW6Jr7C0K",
        "colab": {
          "base_uri": "https://localhost:8080/"
        },
        "outputId": "779b2b37-9b04-423d-f05d-a70eac8d48e1"
      },
      "execution_count": 31,
      "outputs": [
        {
          "output_type": "stream",
          "name": "stdout",
          "text": [
            "Enter expression: 13 * 2\n",
            "26\n"
          ]
        }
      ]
    },
    {
      "cell_type": "markdown",
      "source": [
        "## Задание 5\n",
        "\n",
        "### Умный калькулятор\n",
        "\n",
        "**Образец работы программы:**\n",
        "\n",
        "```\n",
        "Введите выражение: 2 + 2\n",
        "4\n",
        "Введите выражение: 2 == 2\n",
        "True\n",
        "Введите выражение: 2 + 2.1\n",
        "4.1\n",
        "```\n",
        "Дополните калькулятор из задания 4:\n",
        "1. Замените операции с int операциями с float\n",
        "2. Научите калькулятор выполнять логические выражения, добавив новое условие\n",
        "3. Если результат вычисления - целое число (например, `4.0`), выводите целочисленный тип (`4`), иначе, выводите float"
      ],
      "metadata": {
        "id": "Byz1IibM7s8y"
      }
    },
    {
      "cell_type": "code",
      "source": [
        "user_num = input('Enter expression: ')\n",
        "user_num = user_num.split()\n",
        "\n",
        "if user_num[1] == '+':\n",
        "  result = float(user_num[0]) + float(user_num[2])\n",
        "elif user_num[1] == '-':\n",
        "  result = float(user_num[0]) - float(user_num[2])\n",
        "elif user_num[1] == ':':\n",
        "  result = float(user_num[0]) / float(user_num[2])\n",
        "elif user_num[1] == '*':\n",
        "  result = float(user_num[0]) * float(user_num[2])\n",
        "elif user_num[1] == '==':\n",
        "  result = float(user_num[0]) == float(user_num[2])\n",
        "\n",
        "if str(result)[-2:] == '.0':\n",
        "  print(int(result))\n",
        "else:\n",
        "  print(result)"
      ],
      "metadata": {
        "id": "z5cHM4Og7G9s",
        "colab": {
          "base_uri": "https://localhost:8080/"
        },
        "outputId": "6bd5867c-045f-4ded-d3c3-7d4e1a14f7ae"
      },
      "execution_count": 49,
      "outputs": [
        {
          "output_type": "stream",
          "name": "stdout",
          "text": [
            "Enter expression: 4.1 + 5.9\n",
            "10\n"
          ]
        }
      ]
    },
    {
      "cell_type": "markdown",
      "source": [
        "# Блок 2: задачи на обработку данных"
      ],
      "metadata": {
        "id": "HkO1aD2F9Iss"
      }
    },
    {
      "cell_type": "markdown",
      "source": [
        "## Задание 6\n",
        "\n",
        "### Фильтрация данных\n",
        "\n",
        "**Образец результата работы программы:**\n",
        "\n",
        "```\n",
        "Laptop\n",
        "Smartphone\n",
        "Tablet\n",
        "```\n",
        "\n",
        "**Условия:**\n",
        "\n",
        "Дан список продуктов в магазине техники:\n",
        "\n",
        "`\"Laptop True\", \"Headphones False\", \"Smartphone True\", \"Tablet True\", \"Speaker False\"`\n",
        "\n",
        "Каждый элемент списка состоит из двух слов:\n",
        "\n",
        "1. тип продукта (`Laptop`)\n",
        "2. его наличие (`True`) или отсутствие (`False`) в магазине\n",
        "\n",
        "Допишите код ниже, чтобы вывести на экран продукты в наличии.\n",
        "\n",
        "Используйте условие: вторая часть элемента списка должна быть равна `True`."
      ],
      "metadata": {
        "id": "pmEBQyIh9Ist"
      }
    },
    {
      "cell_type": "code",
      "execution_count": 50,
      "metadata": {
        "id": "i5vvEmhZ9Isv",
        "colab": {
          "base_uri": "https://localhost:8080/"
        },
        "outputId": "9f4a05f7-2468-43a3-921d-babf5aec9ea3"
      },
      "outputs": [
        {
          "output_type": "stream",
          "name": "stdout",
          "text": [
            "Laptop\n",
            "Smartphone\n",
            "Tablet\n"
          ]
        }
      ],
      "source": [
        "# Список продуктов\n",
        "products = [\"Laptop True\", \"Headphones False\", \"Smartphone True\", \"Tablet True\", \"Speaker False\"]\n",
        "\n",
        "# Начинаем перебирать список\n",
        "for product in products:\n",
        "  if product.split()[1] == 'True':\n",
        "    print(product.split()[0])"
      ]
    },
    {
      "cell_type": "markdown",
      "source": [
        "## Задание 7\n",
        "\n",
        "### Фильтрация по числу\n",
        "\n",
        "**Образец результата работы программы:**\n",
        "\n",
        "```\n",
        "Headphones\n",
        "Smartphone\n",
        "Tablet\n",
        "```\n",
        "\n",
        "**Условия:**\n",
        "\n",
        "Дан список продуктов в магазине техники:\n",
        "\n",
        "`\"Laptop 8\", \"Headphones 12\", \"Smartphone 41\", \"Tablet 10\", \"Speaker 6\"`\n",
        "\n",
        "Каждый элемент списка состоит из двух компонентов:\n",
        "\n",
        "1. тип продукта (`Laptop`)\n",
        "2. количество продуктов данного типа в магазине (`8`)\n",
        "\n",
        "Допишите код ниже, чтобы вывести на экран продукты, количество которых равно или больше 10.\n",
        "\n",
        "Используйте условие: вторая часть элемента списка должна быть равна или больше десяти."
      ],
      "metadata": {
        "id": "NdG5Y_Cg9Isv"
      }
    },
    {
      "cell_type": "code",
      "source": [
        "# Список продуктов\n",
        "num_products = [\"Laptop 8\", \"Headphones 12\", \"Smartphone 41\", \"Tablet 10\", \"Speaker 6\"]\n",
        "\n",
        "# Начинаем перебирать список\n",
        "for product in num_products:\n",
        "  if int(product.split()[1]) >= 10:\n",
        "    print(product.split()[0])"
      ],
      "metadata": {
        "id": "tpsi4s4l9Isw",
        "colab": {
          "base_uri": "https://localhost:8080/"
        },
        "outputId": "dd859edd-2743-40c4-fa5c-e6a31aedd610"
      },
      "execution_count": 61,
      "outputs": [
        {
          "output_type": "stream",
          "name": "stdout",
          "text": [
            "Headphones\n",
            "Smartphone\n",
            "Tablet\n"
          ]
        }
      ]
    },
    {
      "cell_type": "markdown",
      "source": [
        "## Задание 8\n",
        "\n",
        "### Изменение списка\n",
        "\n",
        "**Образец результата работы программы:**\n",
        "\n",
        "```\n",
        "`\"Headphones 12\", \"Smartphone 41\", \"Tablet 10\", \"Desktop 16\"`\n",
        "```\n",
        "\n",
        "**Условия:**\n",
        "\n",
        "Дан список новых продуктов для поставки магазин техники:\n",
        "\n",
        "`\"Desktop 16\", \"Mouse 2\", \"Keyboard 4\"`\n",
        "\n",
        "Каждый элемент списка состоит из двух компонентов:\n",
        "\n",
        "1. тип продукта (`Desktop`)\n",
        "2. количество продуктов данного типа в магазине (`16`)\n",
        "\n",
        "Допишите код ниже, чтобы добавить в список `num_products` продукты, количество которых равно или больше 10.\n",
        "\n",
        "Используйте условие и функцию `append`."
      ],
      "metadata": {
        "id": "Tf1rQpab9Isx"
      }
    },
    {
      "cell_type": "code",
      "source": [
        "num_products = [\"Laptop 8\", \"Headphones 12\", \"Smartphone 41\", \"Tablet 10\", \"Speaker 6\"]\n",
        "new_products = [\"Desktop 16\", \"Mouse 2\", \"Keyboard 4\"]\n",
        "\n",
        "for product in new_products:\n",
        "  if int(product.split()[1]) >= 10:\n",
        "    num_products.append(product)\n",
        "\n",
        "print(num_products)"
      ],
      "metadata": {
        "id": "LSd3_vPw9Isx",
        "colab": {
          "base_uri": "https://localhost:8080/"
        },
        "outputId": "6da6fbb7-186d-4c5b-f493-1eaf32a279e2"
      },
      "execution_count": 66,
      "outputs": [
        {
          "output_type": "stream",
          "name": "stdout",
          "text": [
            "['Laptop 8', 'Headphones 12', 'Smartphone 41', 'Tablet 10', 'Speaker 6', 'Desktop 16']\n"
          ]
        }
      ]
    },
    {
      "cell_type": "markdown",
      "source": [
        "Удалите из `num_products` элементы, количество которых меньше 10.\n",
        "\n",
        "Используйте `remove`. Когда мы используем `remove`, список меняется и в следующей итерации могут вознкнуть конфликты.\n",
        "\n",
        "    Пример:  \n",
        "      Итерация 1: удали третий элемент из списка [1, 2, 3]\n",
        "      Итерация 2: удали третий элемент из списка [1, 2] - ошибка!\n",
        "\n",
        "Поэтому мы создаем временную копию списка `num_products[:]`."
      ],
      "metadata": {
        "id": "FAIsp2TOB1_a"
      }
    },
    {
      "cell_type": "code",
      "source": [
        "for product in num_products[:]: # [:] создает копию списка, чтобы избежать конфликтов\n",
        "  if int(product.split()[1]) < 10:\n",
        "    num_products.remove(product)\n",
        "\n",
        "print(num_products)"
      ],
      "metadata": {
        "id": "Gt-6sSw9B-_f",
        "colab": {
          "base_uri": "https://localhost:8080/"
        },
        "outputId": "753179e8-de01-439c-cfdf-d3d3bce87650"
      },
      "execution_count": 67,
      "outputs": [
        {
          "output_type": "stream",
          "name": "stdout",
          "text": [
            "['Headphones 12', 'Smartphone 41', 'Tablet 10', 'Desktop 16']\n"
          ]
        }
      ]
    },
    {
      "cell_type": "markdown",
      "source": [
        "## Задание 9\n",
        "\n",
        "### Фильтрация списка имен\n",
        "\n",
        "**Образец результата работы программы:**\n",
        "\n",
        "```\n",
        "a_k = \"Alex\", \"Chloe\", \"George\", \"Jordan\"\n",
        "l_z = \"Lauren\", \"Tom\"\n",
        "```\n",
        "\n",
        "**Условия:**\n",
        "\n",
        "Дан список имен:\n",
        "\n",
        "`[\"Tom\", \"Chloe\", \"Alex\", \"George\", \"Lauren\", \"Jordan\"]`\n",
        "\n",
        "Создайте два списка и отсортируйте их в алфавитном порядке:\n",
        "\n",
        "1. `a_k`: список имен, начинающихся с букв в диапазоне от `A` до `K` (буквы чувствительны к регистру и ранжируются [как числа] от A до Z и далее от a до z)\n",
        "2. `l_z`: список от `L` до `Z`"
      ],
      "metadata": {
        "id": "JPbwkam09Isx"
      }
    },
    {
      "cell_type": "code",
      "source": [
        "names = [\"Tom\", \"Chloe\", \"Alex\", \"George\", \"Lauren\", \"Jordan\"]\n",
        "\n",
        "# Создайте 2 пустых списка a_k и l_z\n",
        "a_k = []\n",
        "l_z = []\n",
        "\n",
        "for name in names:\n",
        "  # Используйте append, чтобы внести в a_k имена от A до K\n",
        "    if 'A' <= name[0] <= 'K':\n",
        "      a_k.append(name)\n",
        "  # Иначе, добавьте имена в другой список\n",
        "    else:\n",
        "      l_z.append(name)\n",
        "\n",
        "# Используйте sorted, чтобы перезаписать в оба списка отсортированные по алфавиту данные\n",
        "print(f'a_k = {sorted(a_k)}\\nl_z = {sorted(l_z)}')"
      ],
      "metadata": {
        "id": "BPzG9mme9Isx",
        "colab": {
          "base_uri": "https://localhost:8080/"
        },
        "outputId": "736faeaa-f7d4-4eb5-8128-a5196938c176"
      },
      "execution_count": 79,
      "outputs": [
        {
          "output_type": "stream",
          "name": "stdout",
          "text": [
            "a_k = ['Alex', 'Chloe', 'George', 'Jordan']\n",
            "l_z = ['Lauren', 'Tom']\n"
          ]
        }
      ]
    },
    {
      "cell_type": "markdown",
      "source": [
        "## Задание 10\n",
        "\n",
        "### Фильтрация типов\n",
        "\n",
        "**Образец результата работы программы:**\n",
        "\n",
        "```\n",
        "nums = [1, 3, 4]\n",
        "names = [\"apple\", \"banana\", \"kiwi\"]\n",
        "floats = [2.5, 7.6]\n",
        "bools = [True, True, False]\n",
        "```\n",
        "\n",
        "**Условия:**\n",
        "\n",
        "Дан список данных разных типов:\n",
        "\n",
        "`3, 1, \"kiwi\", 7.6, False, True, \"apple\", 2.5, \"banana\", True, 4`\n",
        "\n",
        "Используйте выражение `if isinstance(element, type)`, где `type` - питоновский тип (`int`, `str`...), чтобы создать списки, содержащие элементы одного типа.\n",
        "\n",
        "Отсортируйте списки с помощью `sorted`."
      ],
      "metadata": {
        "id": "_GVE8_lb9Isx"
      }
    },
    {
      "cell_type": "code",
      "source": [
        "mixed_list = [3, 1, \"kiwi\", 7.6, False, True, \"apple\", 2.5, \"banana\", True, 4]\n",
        "\n",
        "# Создайте пустые списки\n",
        "nums = []\n",
        "names = []\n",
        "floats = []\n",
        "bools = []\n",
        "\n",
        "for element in mixed_list:\n",
        "  if isinstance(element, int):\n",
        "    nums.append(element)\n",
        "  elif isinstance(element, str):\n",
        "    names.append(element)\n",
        "  else:\n",
        "    floats.append(element)\n",
        "\n",
        "for numb in nums:\n",
        "  if str(numb) == 'True' or str(numb) == 'False':\n",
        "    bools.append(numb)\n",
        "\n",
        "# Отсортируйте списки\n",
        "print(f'nums = {sorted(nums)}\\nnames = {sorted(names)}\\nfloats = {sorted(floats)}\\nbools = {sorted(bools)}')\n",
        "\n",
        "# Порядок списка логических переменных отличается от того, который в задании, т.к. сортирую 0 (False) и 1 (True); 0 < 1, следовательно, идет раньше\n",
        "# Ну, и даже по алфавиту F идет раньше T"
      ],
      "metadata": {
        "id": "wI_V15MM9Isy",
        "colab": {
          "base_uri": "https://localhost:8080/"
        },
        "outputId": "0984732e-4413-4580-e003-7259d57e8642"
      },
      "execution_count": 94,
      "outputs": [
        {
          "output_type": "stream",
          "name": "stdout",
          "text": [
            "nums = [False, 1, True, True, 3, 4]\n",
            "names = ['apple', 'banana', 'kiwi']\n",
            "floats = [2.5, 7.6]\n",
            "bools = [False, True, True]\n"
          ]
        }
      ]
    }
  ]
}